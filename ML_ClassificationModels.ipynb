{
  "nbformat": 4,
  "nbformat_minor": 0,
  "metadata": {
    "colab": {
      "name": "ML_ClassificationModels.ipynb",
      "provenance": [],
      "collapsed_sections": []
    },
    "kernelspec": {
      "name": "python3",
      "display_name": "Python 3"
    }
  },
  "cells": [
    {
      "cell_type": "code",
      "metadata": {
        "id": "uNAQ-ClKwNIo",
        "colab_type": "code",
        "colab": {
          "base_uri": "https://localhost:8080/",
          "height": 204
        },
        "outputId": "1208bbe0-30a5-4225-f583-f5a16ba7394c"
      },
      "source": [
        "#Load libraries\n",
        "import pandas as pd\n",
        "import numpy as np\n",
        "import matplotlib.pyplot as plt\n",
        "from sklearn.model_selection import train_test_split\n",
        "from sklearn.model_selection import GridSearchCV\n",
        "from sklearn.metrics import accuracy_score\n",
        "from sklearn.metrics import confusion_matrix\n",
        "from sklearn.linear_model import LogisticRegression\n",
        "from sklearn.preprocessing import LabelEncoder\n",
        "\n",
        "#Load dataset\n",
        "url = \"https://raw.githubusercontent.com/callxpert/datasets/master/Loan-applicant-details.csv\"\n",
        "names = ['Loan_ID','Gender','Married','Dependents','Education','Self_Employed','ApplicantIncome','CoapplicantIncome','LoanAmount','Loan_Amount_Term','Credit_History','Property_Area','Loan_Status']\n",
        "dataset = pd.read_csv(url, names=names)\n",
        "\n",
        "#Convert String data(Labels) to integer\n",
        "var_mod = ['Gender','Married','Dependents','Education','Self_Employed','Property_Area','Loan_Status']\n",
        "le = LabelEncoder()\n",
        "for i in var_mod:\n",
        "    dataset[i] = le.fit_transform(dataset[i])\n",
        "\n",
        "# Splitting Train and test data\n",
        "array = dataset.values\n",
        "X = array[:,6:11]\n",
        "X=X.astype('int')        #To make sklearn aware of 'int' type of X\n",
        "Y = array[:,12]\n",
        "Y=Y.astype('int')        #To make sklearn aware of 'int' type of Y\n",
        "\n",
        "x_train, x_test, y_train, y_test = model_selection.train_test_split(X, Y, test_size=0.48, random_state=8)\n",
        "\n",
        "#regression model\n",
        "Log_reg=LogisticRegression()\n",
        "Log_reg.fit(x_train,y_train)\n",
        "y_pred=Log_reg.predict(x_test)\n",
        "print(y_pred)\n",
        "\n",
        "#confusion Matrix\n",
        "print(\"Confusion Matrix:\")\n",
        "print(confusion_matrix(y_test,y_pred))\n",
        "\n",
        "#Accuracy of the Model\n",
        "print(\"Accuracy of model: \",accuracy_score(y_test, y_pred))\n",
        "\n"
      ],
      "execution_count": 40,
      "outputs": [
        {
          "output_type": "stream",
          "text": [
            "[1 1 1 1 0 0 1 1 1 1 1 1 0 0 1 0 1 1 0 0 1 1 1 1 1 1 1 1 1 1 0 1 1 1 1 1 0\n",
            " 1 1 0 1 1 1 1 1 1 1 1 1 0 1 1 1 0 1 1 1 1 0 1 1 0 1 1 1 1 1 0 1 0 1 0 1 1\n",
            " 1 0 1 1 1 1 1 0 1 1 0 1 1 1 1 0 1 1 1 1 1 1 1 1 0 1 0 1 1 1 1 0 1 1 1 1 1\n",
            " 1 1 1 1 1 0 0 1 1 0 0 1 1 0 1 1 1 1 1 1 0 1 0 1 1 1 0 1 1 1 1 1 1 0 1 1 1\n",
            " 1 1 1 1 1 1 1 1 1 1 1 1 1 1 1 1 1 1 1 1 1 1 1 1 1 1 1 1 1 1 1 1 1 0 1 1 0\n",
            " 1 1 1 1 0 1 1 0 1 1 1 1 1 1 0 1 1 1 1 1 1 1 1 0 1 1 1 1 0 1 1 1 0 0 1 1 1\n",
            " 1 1 1 1 0 0 0 1 1]\n",
            "Confusion Matrix:\n",
            "[[ 39  35]\n",
            " [  6 151]]\n",
            "Accuracy of model:  0.8225108225108225\n"
          ],
          "name": "stdout"
        }
      ]
    },
    {
      "cell_type": "code",
      "metadata": {
        "id": "oXKBNHof3ngH",
        "colab_type": "code",
        "colab": {
          "base_uri": "https://localhost:8080/",
          "height": 153
        },
        "outputId": "433f2a7d-f4bf-4a40-f0f8-1b903a5ec8a6"
      },
      "source": [
        "# Decision Tree Classifier\n",
        "\n",
        "from sklearn import tree\n",
        "\n",
        "x_train, x_test, y_train, y_test = model_selection.train_test_split(X, Y, test_size=0.25, random_state=6)\n",
        "\n",
        "Dec_tree=tree.DecisionTreeClassifier()\n",
        "Dec_tree.fit(x_train,y_train)\n",
        "y_pred=Dec_tree.predict(x_test)\n",
        "print(y_pred)\n",
        "\n",
        "#confusion Matrix\n",
        "print(\"Confusion Matrix:\")\n",
        "print(confusion_matrix(y_test,y_pred))\n",
        "\n",
        "#Accuracy of the Model\n",
        "print(\"Accuracy of model: \",accuracy_score(y_pred,y_test))"
      ],
      "execution_count": 48,
      "outputs": [
        {
          "output_type": "stream",
          "text": [
            "[1 1 1 0 1 1 0 0 1 0 1 1 0 1 1 1 1 1 1 1 1 0 1 1 1 1 1 0 0 0 1 1 0 1 1 1 1\n",
            " 0 1 1 0 1 1 0 1 0 0 1 1 1 1 1 1 1 0 1 1 0 0 1 1 1 1 1 1 1 0 0 1 1 0 1 1 1\n",
            " 0 0 1 1 0 1 0 0 1 0 0 1 1 1 1 1 1 1 1 1 1 1 1 1 1 1 1 0 1 1 1 1 0 0 1 1 1\n",
            " 0 1 1 0 1 1 0 1 1]\n",
            "Confusion Matrix:\n",
            "[[19 16]\n",
            " [15 70]]\n",
            "Accuracy of model:  0.7416666666666667\n"
          ],
          "name": "stdout"
        }
      ]
    },
    {
      "cell_type": "code",
      "metadata": {
        "id": "bje_oIkuaMrf",
        "colab_type": "code",
        "colab": {
          "base_uri": "https://localhost:8080/",
          "height": 51
        },
        "outputId": "ca39a05e-f8f1-4643-f711-c0ccabc5c236"
      },
      "source": [
        "#Support Vector Machine (SVM)Classifier\n",
        "\n",
        "from sklearn.multiclass import OneVsRestClassifier\n",
        "from sklearn.svm import SVC\n",
        "from sklearn.model_selection import GridSearchCV\n",
        "from sklearn.metrics import f1_score\n",
        "\n",
        "model_to_set = OneVsRestClassifier(SVC(kernel=\"poly\"))\n",
        "\n",
        "param_grid = {\n",
        "    \"estimator__C\": [10,20,4,8],\n",
        "    \"estimator__kernel\": [\"poly\",\"rbf\"],\n",
        "    \"estimator__degree\":[1, 2, 3, 4],\n",
        "}\n",
        "\n",
        "model_tunning = GridSearchCV(model_to_set,param_grid, scoring = 'f1_micro', cv=6,n_jobs=-1) #Tunning parameters\n",
        "\n",
        "\n",
        "model_tunning.fit(x_train,y_train)\n",
        "print (\"Accuracy: \",model_tunning.best_score_)   #Best score among provided parameters\n",
        "print (\"Parameters for this Accuracy: \",model_tunning.best_params_)"
      ],
      "execution_count": 70,
      "outputs": [
        {
          "output_type": "stream",
          "text": [
            "0.6861111111111112\n",
            "{'estimator__C': 10, 'estimator__degree': 1, 'estimator__kernel': 'poly'}\n"
          ],
          "name": "stdout"
        }
      ]
    },
    {
      "cell_type": "code",
      "metadata": {
        "id": "8C0G9pV7hQlA",
        "colab_type": "code",
        "colab": {
          "base_uri": "https://localhost:8080/",
          "height": 85
        },
        "outputId": "ac7ed7fb-1b9d-4777-dc63-62f6db91711a"
      },
      "source": [
        "#k-Nearest Neighbour Classifier\n",
        "from sklearn.neighbors import KNeighborsClassifier \n",
        "\n",
        "knn_model = KNeighborsClassifier(n_neighbors=5)   #Efficient neighbors value for highest accuracy\n",
        "  \n",
        "knn_model.fit(x_train, y_train) \n",
        "y_pred=knn_model.predict(x_test)\n",
        "print(\"Accuracy of model: \",accuracy_score(y_test, y_pred))\n",
        "\n",
        "#confusion Matrix\n",
        "print(\"Confusion Matrix:\")\n",
        "print(confusion_matrix(y_test,y_pred))"
      ],
      "execution_count": 86,
      "outputs": [
        {
          "output_type": "stream",
          "text": [
            "Accuracy of model:  0.6916666666666667\n",
            "Confusion Matrix:\n",
            "[[ 9 26]\n",
            " [11 74]]\n"
          ],
          "name": "stdout"
        }
      ]
    }
  ]
}